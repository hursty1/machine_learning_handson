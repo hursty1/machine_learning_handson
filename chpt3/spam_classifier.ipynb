{
 "cells": [
  {
   "cell_type": "code",
   "execution_count": 1,
   "metadata": {},
   "outputs": [],
   "source": [
    "import os\n",
    "import tarfile\n",
    "import urllib.request\n",
    "\n",
    "DOWNLOAD_ROOT = \"http://spamassassin.apache.org/old/publiccorpus/\"\n",
    "HAM_URL = DOWNLOAD_ROOT + \"20030228_easy_ham.tar.bz2\"\n",
    "SPAM_URL = DOWNLOAD_ROOT + \"20030228_spam.tar.bz2\"\n",
    "SPAM_PATH = os.path.join(\"datasets\", \"spam\")\n",
    "\n",
    "def fetch_spam_data(ham_url=HAM_URL, spam_url=SPAM_URL, spam_path=SPAM_PATH):\n",
    "    if not os.path.isdir(spam_path):\n",
    "        os.makedirs(spam_path)\n",
    "    for filename, url in ((\"ham.tar.bz2\", ham_url), (\"spam.tar.bz2\", spam_url)):\n",
    "        path = os.path.join(spam_path, filename)\n",
    "        if not os.path.isfile(path):\n",
    "            urllib.request.urlretrieve(url, path)\n",
    "        tar_bz2_file = tarfile.open(path)\n",
    "        tar_bz2_file.extractall(path=spam_path)\n",
    "        tar_bz2_file.close()"
   ]
  },
  {
   "cell_type": "code",
   "execution_count": 2,
   "metadata": {},
   "outputs": [],
   "source": [
    "\n",
    "fetch_spam_data()"
   ]
  },
  {
   "cell_type": "code",
   "execution_count": 3,
   "metadata": {},
   "outputs": [],
   "source": [
    "HAM_DIR = os.path.join(SPAM_PATH, \"easy_ham\")\n",
    "SPAM_DIR = os.path.join(SPAM_PATH, \"spam\")\n",
    "ham_filenames = [name for name in sorted(os.listdir(HAM_DIR)) if len(name) > 20]\n",
    "spam_filenames = [name for name in sorted(os.listdir(SPAM_DIR)) if len(name) > 20]"
   ]
  },
  {
   "cell_type": "code",
   "execution_count": 4,
   "metadata": {},
   "outputs": [
    {
     "data": {
      "text/plain": [
       "2500"
      ]
     },
     "execution_count": 4,
     "metadata": {},
     "output_type": "execute_result"
    }
   ],
   "source": [
    "len(ham_filenames)"
   ]
  },
  {
   "cell_type": "code",
   "execution_count": 5,
   "metadata": {},
   "outputs": [
    {
     "data": {
      "text/plain": [
       "500"
      ]
     },
     "execution_count": 5,
     "metadata": {},
     "output_type": "execute_result"
    }
   ],
   "source": [
    "len(spam_filenames)"
   ]
  },
  {
   "cell_type": "code",
   "execution_count": 6,
   "metadata": {},
   "outputs": [
    {
     "data": {
      "text/plain": [
       "'00001.7c53336b37003a9286aba55d2945844c'"
      ]
     },
     "execution_count": 6,
     "metadata": {},
     "output_type": "execute_result"
    }
   ],
   "source": [
    "ham_filenames[0]"
   ]
  },
  {
   "cell_type": "code",
   "execution_count": 8,
   "metadata": {},
   "outputs": [],
   "source": [
    "import email\n",
    "import email.policy"
   ]
  },
  {
   "cell_type": "code",
   "execution_count": 26,
   "metadata": {},
   "outputs": [],
   "source": [
    "file = open('datasets/spam/easy_ham/' + ham_filenames[0], 'rb') #open file"
   ]
  },
  {
   "cell_type": "code",
   "execution_count": 27,
   "metadata": {},
   "outputs": [],
   "source": [
    "mail = email.parser.BytesParser(policy=email.policy.default).parse(file)\n",
    "#https://docs.python.org/3/library/email.parser.html#email.parser.BytesParser\n"
   ]
  },
  {
   "cell_type": "code",
   "execution_count": 31,
   "metadata": {},
   "outputs": [
    {
     "name": "stdout",
     "output_type": "stream",
     "text": [
      "Date:        Wed, 21 Aug 2002 10:54:46 -0500\n",
      "    From:        Chris Garrigues <cwg-dated-1030377287.06fa6d@DeepEddy.Com>\n",
      "    Message-ID:  <1029945287.4797.TMDA@deepeddy.vircio.com>\n",
      "\n",
      "\n",
      "  | I can't reproduce this error.\n",
      "\n",
      "For me it is very repeatable... (like every time, without fail).\n",
      "\n",
      "This is the debug log of the pick happening ...\n",
      "\n",
      "18:19:03 Pick_It {exec pick +inbox -list -lbrace -lbrace -subject ftp -rbrace -rbrace} {4852-4852 -sequence mercury}\n",
      "18:19:03 exec pick +inbox -list -lbrace -lbrace -subject ftp -rbrace -rbrace 4852-4852 -sequence mercury\n",
      "18:19:04 Ftoc_PickMsgs {{1 hit}}\n",
      "18:19:04 Marking 1 hits\n",
      "18:19:04 tkerror: syntax error in expression \"int ...\n",
      "\n",
      "Note, if I run the pick command by hand ...\n",
      "\n",
      "delta$ pick +inbox -list -lbrace -lbrace -subject ftp -rbrace -rbrace  4852-4852 -sequence mercury\n",
      "1 hit\n",
      "\n",
      "That's where the \"1 hit\" comes from (obviously).  The version of nmh I'm\n",
      "using is ...\n",
      "\n",
      "delta$ pick -version\n",
      "pick -- nmh-1.0.4 [compiled on fuchsia.cs.mu.OZ.AU at Sun Mar 17 14:55:56 ICT 2002]\n",
      "\n",
      "And the relevant part of my .mh_profile ...\n",
      "\n",
      "delta$ mhparam pick\n",
      "-seq sel -list\n",
      "\n",
      "\n",
      "Since the pick command works, the sequence (actually, both of them, the\n",
      "one that's explicit on the command line, from the search popup, and the\n",
      "one that comes from .mh_profile) do get created.\n",
      "\n",
      "kre\n",
      "\n",
      "ps: this is still using the version of the code form a day ago, I haven't\n",
      "been able to reach the cvs repository today (local routing issue I think).\n",
      "\n",
      "\n",
      "\n",
      "_______________________________________________\n",
      "Exmh-workers mailing list\n",
      "Exmh-workers@redhat.com\n",
      "https://listman.redhat.com/mailman/listinfo/exmh-workers\n"
     ]
    }
   ],
   "source": [
    "print(mail.get_content().strip())"
   ]
  },
  {
   "cell_type": "code",
   "execution_count": 32,
   "metadata": {},
   "outputs": [],
   "source": [
    "def parse_email(spam, filename):\n",
    "    if spam:\n",
    "        dir = 'spam'\n",
    "    else:\n",
    "        dir = 'easy_ham'\n",
    "    \n",
    "    with open(os.path.join('datasets/spam/', dir, filename), 'rb') as f:\n",
    "        return email.parser.BytesParser(policy = email.policy.default).parse(f)"
   ]
  },
  {
   "cell_type": "code",
   "execution_count": 37,
   "metadata": {},
   "outputs": [],
   "source": [
    "test_email = parse_email(True, spam_filenames[1])"
   ]
  },
  {
   "cell_type": "code",
   "execution_count": 49,
   "metadata": {},
   "outputs": [
    {
     "data": {
      "text/plain": [
       "'Life Insurance - Why Pay More?'"
      ]
     },
     "execution_count": 49,
     "metadata": {},
     "output_type": "execute_result"
    }
   ],
   "source": [
    "# print(test_email.get_content().strip())\n",
    "spam[0][\"Subject\"]"
   ]
  },
  {
   "cell_type": "code",
   "execution_count": 40,
   "metadata": {},
   "outputs": [],
   "source": [
    "ham = [parse_email(False, name) for name in ham_filenames]\n",
    "spam = [parse_email(True, name) for name in spam_filenames]"
   ]
  },
  {
   "cell_type": "code",
   "execution_count": 42,
   "metadata": {},
   "outputs": [
    {
     "data": {
      "text/plain": [
       "2500"
      ]
     },
     "execution_count": 42,
     "metadata": {},
     "output_type": "execute_result"
    }
   ],
   "source": [
    "len(ham)"
   ]
  },
  {
   "cell_type": "code",
   "execution_count": 43,
   "metadata": {},
   "outputs": [
    {
     "data": {
      "text/plain": [
       "500"
      ]
     },
     "execution_count": 43,
     "metadata": {},
     "output_type": "execute_result"
    }
   ],
   "source": [
    "len(spam)"
   ]
  },
  {
   "cell_type": "markdown",
   "metadata": {},
   "source": [
    "X Add both together\n",
    "y 0 for ham 1 for spam"
   ]
  },
  {
   "cell_type": "code",
   "execution_count": 44,
   "metadata": {},
   "outputs": [],
   "source": [
    "import numpy as np"
   ]
  },
  {
   "cell_type": "code",
   "execution_count": 50,
   "metadata": {},
   "outputs": [],
   "source": [
    "X = np.array(ham + spam, dtype=object)"
   ]
  },
  {
   "cell_type": "code",
   "execution_count": 52,
   "metadata": {},
   "outputs": [],
   "source": [
    "y = np.array([0] * len(ham) + [1] * len(spam))"
   ]
  },
  {
   "cell_type": "code",
   "execution_count": 59,
   "metadata": {},
   "outputs": [
    {
     "name": "stdout",
     "output_type": "stream",
     "text": [
      "    Date:        Wed, 21 Aug 2002 10:54:46 -0500\n",
      "    From:        Chris Garrigues <cwg-dated-1030377287.06fa6d@DeepEddy.Com>\n",
      "    Message-ID:  <1029945287.4797.TMDA@deepeddy.vircio.com>\n",
      "\n",
      "\n",
      "  | I can't reproduce this error.\n",
      "\n",
      "For me it is very repeatable... (like every time, without fail).\n",
      "\n",
      "This is the debug log of the pick happening ...\n",
      "\n",
      "18:19:03 Pick_It {exec pick +inbox -list -lbrace -lbrace -subject ftp -rbrace -rbrace} {4852-4852 -sequence mercury}\n",
      "18:19:03 exec pick +inbox -list -lbrace -lbrace -subject ftp -rbrace -rbrace 4852-4852 -sequence mercury\n",
      "18:19:04 Ftoc_PickMsgs {{1 hit}}\n",
      "18:19:04 Marking 1 hits\n",
      "18:19:04 tkerror: syntax error in expression \"int ...\n",
      "\n",
      "Note, if I run the pick command by hand ...\n",
      "\n",
      "delta$ pick +inbox -list -lbrace -lbrace -subject ftp -rbrace -rbrace  4852-4852 -sequence mercury\n",
      "1 hit\n",
      "\n",
      "That's where the \"1 hit\" comes from (obviously).  The version of nmh I'm\n",
      "using is ...\n",
      "\n",
      "delta$ pick -version\n",
      "pick -- nmh-1.0.4 [compiled on fuchsia.cs.mu.OZ.AU at Sun Mar 17 14:55:56 ICT 2002]\n",
      "\n",
      "And the relevant part of my .mh_profile ...\n",
      "\n",
      "delta$ mhparam pick\n",
      "-seq sel -list\n",
      "\n",
      "\n",
      "Since the pick command works, the sequence (actually, both of them, the\n",
      "one that's explicit on the command line, from the search popup, and the\n",
      "one that comes from .mh_profile) do get created.\n",
      "\n",
      "kre\n",
      "\n",
      "ps: this is still using the version of the code form a day ago, I haven't\n",
      "been able to reach the cvs repository today (local routing issue I think).\n",
      "\n",
      "\n",
      "\n",
      "_______________________________________________\n",
      "Exmh-workers mailing list\n",
      "Exmh-workers@redhat.com\n",
      "https://listman.redhat.com/mailman/listinfo/exmh-workers\n",
      "\n",
      "\n"
     ]
    }
   ],
   "source": [
    "print(ham[0].get_content())"
   ]
  },
  {
   "cell_type": "code",
   "execution_count": 62,
   "metadata": {},
   "outputs": [
    {
     "data": {
      "text/plain": [
       "\"Man Threatens Explosion In Moscow \\n\\nThursday August 22, 2002 1:40 PM\\nMOSCOW (AP) - Security officers on Thursday seized an unidentified man who\\nsaid he was armed with explosives and threatened to blow up his truck in\\nfront of Russia's Federal Security Services headquarters in Moscow, NTV\\ntelevision reported.\\nThe officers seized an automatic rifle the man was carrying, then the man\\ngot out of the truck and was taken into custody, NTV said. No other details\\nwere immediately available.\\nThe man had demanded talks with high government officials, the Interfax and\\nITAR-Tass news agencies said. Ekho Moskvy radio reported that he wanted to\\ntalk with Russian President Vladimir Putin.\\nPolice and security forces rushed to the Security Service building, within\\nblocks of the Kremlin, Red Square and the Bolshoi Ballet, and surrounded the\\nman, who claimed to have one and a half tons of explosives, the news\\nagencies said. Negotiations continued for about one and a half hours outside\\nthe building, ITAR-Tass and Interfax reported, citing witnesses.\\nThe man later drove away from the building, under police escort, and drove\\nto a street near Moscow's Olympic Penta Hotel, where authorities held\\nfurther negotiations with him, the Moscow police press service said. The\\nmove appeared to be an attempt by security services to get him to a more\\nsecure location. \\n\\n------------------------ Yahoo! Groups Sponsor ---------------------~-->\\n4 DVDs Free +s&p Join Now\\nhttp://us.click.yahoo.com/pt6YBB/NXiEAA/mG3HAA/7gSolB/TM\\n---------------------------------------------------------------------~->\\n\\nTo unsubscribe from this group, send an email to:\\nforteana-unsubscribe@egroups.com\\n\\n \\n\\nYour use of Yahoo! Groups is subject to http://docs.yahoo.com/info/terms/ \\n\\n\\n\\n\""
      ]
     },
     "execution_count": 62,
     "metadata": {},
     "output_type": "execute_result"
    }
   ],
   "source": [
    "ham[2\n",
    "    ].get_payload()"
   ]
  },
  {
   "cell_type": "code",
   "execution_count": 63,
   "metadata": {},
   "outputs": [
    {
     "data": {
      "text/plain": [
       "[('Return-Path', '<Steve_Burt@cursor-system.com>'),\n",
       " ('Delivered-To', 'zzzz@localhost.netnoteinc.com'),\n",
       " ('Received',\n",
       "  'from localhost (localhost [127.0.0.1])\\tby phobos.labs.netnoteinc.com (Postfix) with ESMTP id BE12E43C34\\tfor <zzzz@localhost>; Thu, 22 Aug 2002 07:46:38 -0400 (EDT)'),\n",
       " ('Received',\n",
       "  'from phobos [127.0.0.1]\\tby localhost with IMAP (fetchmail-5.9.0)\\tfor zzzz@localhost (single-drop); Thu, 22 Aug 2002 12:46:38 +0100 (IST)'),\n",
       " ('Received',\n",
       "  'from n20.grp.scd.yahoo.com (n20.grp.scd.yahoo.com    [66.218.66.76]) by dogma.slashnull.org (8.11.6/8.11.6) with SMTP id    g7MBkTZ05087 for <zzzz@spamassassin.taint.org>; Thu, 22 Aug 2002 12:46:29 +0100'),\n",
       " ('X-Egroups-Return',\n",
       "  'sentto-2242572-52726-1030016790-zzzz=spamassassin.taint.org@returns.groups.yahoo.com'),\n",
       " ('Received',\n",
       "  'from [66.218.67.196] by n20.grp.scd.yahoo.com with NNFMP;    22 Aug 2002 11:46:30 -0000'),\n",
       " ('X-Sender', 'steve.burt@cursor-system.com'),\n",
       " ('X-Apparently-To', 'zzzzteana@yahoogroups.com'),\n",
       " ('Received', '(EGP: mail-8_1_0_1); 22 Aug 2002 11:46:29 -0000'),\n",
       " ('Received',\n",
       "  '(qmail 11764 invoked from network); 22 Aug 2002 11:46:29 -0000'),\n",
       " ('Received',\n",
       "  'from unknown (66.218.66.217) by m3.grp.scd.yahoo.com with QMQP;    22 Aug 2002 11:46:29 -0000'),\n",
       " ('Received',\n",
       "  'from unknown (HELO mailgateway.cursor-system.com) (62.189.7.27)    by mta2.grp.scd.yahoo.com with SMTP; 22 Aug 2002 11:46:29 -0000'),\n",
       " ('Received',\n",
       "  'from exchange1.cps.local (unverified) by    mailgateway.cursor-system.com (Content Technologies SMTPRS 4.2.10) with    ESMTP id <T5cde81f695ac1d100407d@mailgateway.cursor-system.com> for    <forteana@yahoogroups.com>; Thu, 22 Aug 2002 13:14:10 +0100'),\n",
       " ('Received',\n",
       "  'by exchange1.cps.local with Internet Mail Service (5.5.2653.19)    id <PXX6AT23>; Thu, 22 Aug 2002 12:46:27 +0100'),\n",
       " ('Message-Id',\n",
       "  '<5EC2AD6D2314D14FB64BDA287D25D9EF12B4F6@exchange1.cps.local>'),\n",
       " ('To', '\"\\'zzzzteana@yahoogroups.com\\'\" <zzzzteana@yahoogroups.com>'),\n",
       " ('X-Mailer', 'Internet Mail Service (5.5.2653.19)'),\n",
       " ('X-Egroups-From', 'Steve Burt <steve.burt@cursor-system.com>'),\n",
       " ('From', 'Steve Burt <Steve_Burt@cursor-system.com>'),\n",
       " ('X-Yahoo-Profile', 'pyruse'),\n",
       " ('MIME-Version', '1.0'),\n",
       " ('Mailing-List',\n",
       "  'list zzzzteana@yahoogroups.com; contact    forteana-owner@yahoogroups.com'),\n",
       " ('Delivered-To', 'mailing list zzzzteana@yahoogroups.com'),\n",
       " ('Precedence', 'bulk'),\n",
       " ('List-Unsubscribe', '<mailto:zzzzteana-unsubscribe@yahoogroups.com>'),\n",
       " ('Date', 'Thu, 22 Aug 2002 12:46:18 +0100'),\n",
       " ('Subject', '[zzzzteana] RE: Alexander'),\n",
       " ('Reply-To', 'zzzzteana@yahoogroups.com'),\n",
       " ('Content-Type', 'text/plain; charset=\"US-ASCII\"'),\n",
       " ('Content-Transfer-Encoding', '7bit')]"
      ]
     },
     "execution_count": 63,
     "metadata": {},
     "output_type": "execute_result"
    }
   ],
   "source": [
    "ham[1].items()"
   ]
  },
  {
   "cell_type": "code",
   "execution_count": 76,
   "metadata": {},
   "outputs": [
    {
     "name": "stdout",
     "output_type": "stream",
     "text": [
      "[<email.message.EmailMessage object at 0x7f87fc4414e0>, <email.message.EmailMessage object at 0x7f87fc443100>]\n",
      "[<email.message.EmailMessage object at 0x7f87fc442b30>]\n",
      "[<email.message.EmailMessage object at 0x7f87fc4421a0>, <email.message.EmailMessage object at 0x7f87fc441360>]\n",
      "[<email.message.EmailMessage object at 0x7f87fc442350>, <email.message.EmailMessage object at 0x7f87fc441300>]\n",
      "[<email.message.EmailMessage object at 0x7f87fc442560>]\n",
      "[<email.message.EmailMessage object at 0x7f87fc441210>]\n",
      "[<email.message.EmailMessage object at 0x7f87fc4425f0>]\n",
      "[<email.message.EmailMessage object at 0x7f87fc441660>, <email.message.EmailMessage object at 0x7f87fc440dc0>]\n",
      "[<email.message.EmailMessage object at 0x7f87fc4409a0>]\n",
      "[<email.message.EmailMessage object at 0x7f87fc441270>]\n",
      "[<email.message.EmailMessage object at 0x7f87fc4415a0>, <email.message.EmailMessage object at 0x7f87fc440fa0>]\n",
      "[<email.message.EmailMessage object at 0x7f87fc4425c0>]\n",
      "[<email.message.EmailMessage object at 0x7f87fc441600>]\n",
      "[<email.message.EmailMessage object at 0x7f87fc440490>, <email.message.EmailMessage object at 0x7f87fc440730>]\n",
      "[<email.message.EmailMessage object at 0x7f87fc441e10>, <email.message.EmailMessage object at 0x7f87fc440970>]\n",
      "[<email.message.EmailMessage object at 0x7f87fc440460>]\n",
      "[<email.message.EmailMessage object at 0x7f87fc4b75e0>, <email.message.EmailMessage object at 0x7f87fc46ee90>]\n",
      "[<email.message.EmailMessage object at 0x7f87fc440f70>, <email.message.EmailMessage object at 0x7f87fc441030>]\n",
      "[<email.message.EmailMessage object at 0x7f87fc441450>, <email.message.EmailMessage object at 0x7f87fc440070>]\n",
      "[<email.message.EmailMessage object at 0x7f87fc442920>]\n",
      "[<email.message.EmailMessage object at 0x7f87fc55bdf0>]\n",
      "[<email.message.EmailMessage object at 0x7f87fc4428f0>, <email.message.EmailMessage object at 0x7f87fc55a980>]\n",
      "[<email.message.EmailMessage object at 0x7f87fc441060>, <email.message.EmailMessage object at 0x7f87e6754160>]\n",
      "[<email.message.EmailMessage object at 0x7f87e6754490>]\n",
      "[<email.message.EmailMessage object at 0x7f87e671c370>, <email.message.EmailMessage object at 0x7f87e671c220>]\n",
      "[<email.message.EmailMessage object at 0x7f87e6754130>]\n",
      "[<email.message.EmailMessage object at 0x7f87e671c250>, <email.message.EmailMessage object at 0x7f87e67543a0>]\n",
      "[<email.message.EmailMessage object at 0x7f87fc415000>, <email.message.EmailMessage object at 0x7f87fc415780>]\n",
      "[<email.message.EmailMessage object at 0x7f87fc49d480>]\n",
      "[<email.message.EmailMessage object at 0x7f87e671a230>]\n",
      "[<email.message.EmailMessage object at 0x7f87fc49d270>, <email.message.EmailMessage object at 0x7f87e6719ba0>]\n",
      "[<email.message.EmailMessage object at 0x7f87fc49e380>]\n",
      "[<email.message.EmailMessage object at 0x7f87e6730a00>]\n",
      "[<email.message.EmailMessage object at 0x7f87e6731c00>, <email.message.EmailMessage object at 0x7f87e6732620>]\n",
      "[<email.message.EmailMessage object at 0x7f87e6731510>, <email.message.EmailMessage object at 0x7f87e6730970>]\n",
      "[<email.message.EmailMessage object at 0x7f87e67315d0>, <email.message.EmailMessage object at 0x7f87e6732440>]\n",
      "[<email.message.EmailMessage object at 0x7f87e6730f70>, <email.message.EmailMessage object at 0x7f87e6730fd0>]\n",
      "[<email.message.EmailMessage object at 0x7f87e6730700>, <email.message.EmailMessage object at 0x7f87e67309a0>]\n",
      "[<email.message.EmailMessage object at 0x7f87e67326e0>, <email.message.EmailMessage object at 0x7f87e67327a0>]\n",
      "[<email.message.EmailMessage object at 0x7f87e6730490>, <email.message.EmailMessage object at 0x7f87e6731a20>]\n",
      "[<email.message.EmailMessage object at 0x7f87e6732770>]\n",
      "[<email.message.EmailMessage object at 0x7f87e6732b30>, <email.message.EmailMessage object at 0x7f87e6731270>]\n",
      "[<email.message.EmailMessage object at 0x7f87e6730070>]\n",
      "[<email.message.EmailMessage object at 0x7f87e6731fc0>]\n",
      "[<email.message.EmailMessage object at 0x7f87e6732230>, <email.message.EmailMessage object at 0x7f87e67302e0>]\n",
      "[<email.message.EmailMessage object at 0x7f87e6732e00>]\n",
      "[<email.message.EmailMessage object at 0x7f87e6732a40>, <email.message.EmailMessage object at 0x7f87e67325c0>]\n",
      "[<email.message.EmailMessage object at 0x7f87e6732d10>, <email.message.EmailMessage object at 0x7f87e6731210>]\n",
      "[<email.message.EmailMessage object at 0x7f87e6730c70>, <email.message.EmailMessage object at 0x7f87e6732d40>]\n",
      "[<email.message.EmailMessage object at 0x7f87e6731660>, <email.message.EmailMessage object at 0x7f87e6730430>]\n",
      "[<email.message.EmailMessage object at 0x7f87e6731000>, <email.message.EmailMessage object at 0x7f87e6732a70>]\n",
      "[<email.message.EmailMessage object at 0x7f87e67310c0>, <email.message.EmailMessage object at 0x7f87e6730610>]\n",
      "[<email.message.EmailMessage object at 0x7f87fc50e6b0>, <email.message.EmailMessage object at 0x7f87fc50fa00>]\n",
      "[<email.message.EmailMessage object at 0x7f87e67310f0>, <email.message.EmailMessage object at 0x7f87e6732830>]\n",
      "[<email.message.EmailMessage object at 0x7f87e6732aa0>, <email.message.EmailMessage object at 0x7f87e6732ef0>]\n",
      "[<email.message.EmailMessage object at 0x7f87e6730c10>]\n",
      "[<email.message.EmailMessage object at 0x7f87fc42b820>, <email.message.EmailMessage object at 0x7f87fc42b700>]\n",
      "[<email.message.EmailMessage object at 0x7f87fc42b6a0>, <email.message.EmailMessage object at 0x7f87fc42b790>]\n",
      "[<email.message.EmailMessage object at 0x7f87fc42ba90>, <email.message.EmailMessage object at 0x7f87fc42b670>]\n",
      "[<email.message.EmailMessage object at 0x7f87fc42bee0>]\n",
      "[<email.message.EmailMessage object at 0x7f87fc42bdf0>, <email.message.EmailMessage object at 0x7f87fc42b7c0>]\n",
      "[<email.message.EmailMessage object at 0x7f87fc42baf0>]\n",
      "[<email.message.EmailMessage object at 0x7f87e676a080>]\n",
      "[<email.message.EmailMessage object at 0x7f87fc42be50>, <email.message.EmailMessage object at 0x7f87fc33e500>, <email.message.EmailMessage object at 0x7f87e6768e50>]\n",
      "[<email.message.EmailMessage object at 0x7f87fc42b8b0>, <email.message.EmailMessage object at 0x7f87e676a680>]\n",
      "[<email.message.EmailMessage object at 0x7f87fc42bdc0>, <email.message.EmailMessage object at 0x7f87fc33c310>]\n",
      "[<email.message.EmailMessage object at 0x7f87fc42bf10>]\n",
      "[<email.message.EmailMessage object at 0x7f87fc42be80>]\n",
      "[<email.message.EmailMessage object at 0x7f87e6714fd0>, <email.message.EmailMessage object at 0x7f87e67140d0>]\n",
      "[<email.message.EmailMessage object at 0x7f87e6714970>]\n",
      "[<email.message.EmailMessage object at 0x7f87e6714d00>]\n",
      "[<email.message.EmailMessage object at 0x7f87e6714400>]\n",
      "[<email.message.EmailMessage object at 0x7f87e6715600>]\n",
      "[<email.message.EmailMessage object at 0x7f87e6715360>]\n",
      "[<email.message.EmailMessage object at 0x7f87e67143d0>]\n",
      "[<email.message.EmailMessage object at 0x7f87e6714e50>]\n",
      "[<email.message.EmailMessage object at 0x7f87e6714820>, <email.message.EmailMessage object at 0x7f87e6715990>]\n",
      "[<email.message.EmailMessage object at 0x7f87e6714250>, <email.message.EmailMessage object at 0x7f87e6715b40>]\n",
      "[<email.message.EmailMessage object at 0x7f87e6714b20>, <email.message.EmailMessage object at 0x7f87e6715870>]\n",
      "[<email.message.EmailMessage object at 0x7f87fc4cac20>, <email.message.EmailMessage object at 0x7f87fc4f8280>]\n",
      "[<email.message.EmailMessage object at 0x7f87e6714c10>, <email.message.EmailMessage object at 0x7f87fc4fbc10>]\n",
      "[<email.message.EmailMessage object at 0x7f87e6715f90>]\n",
      "[<email.message.EmailMessage object at 0x7f87fc55d6c0>, <email.message.EmailMessage object at 0x7f87fc55ed70>]\n",
      "[<email.message.EmailMessage object at 0x7f87fc55c8b0>]\n",
      "[<email.message.EmailMessage object at 0x7f87fc55f0a0>]\n",
      "[<email.message.EmailMessage object at 0x7f87fc55d4b0>, <email.message.EmailMessage object at 0x7f87fc55d630>]\n",
      "[<email.message.EmailMessage object at 0x7f87fc55ff40>]\n",
      "[<email.message.EmailMessage object at 0x7f87d7ed02e0>]\n",
      "[<email.message.EmailMessage object at 0x7f87d7ed1420>, <email.message.EmailMessage object at 0x7f87d7ed1cc0>]\n",
      "[<email.message.EmailMessage object at 0x7f87d7ed17b0>, <email.message.EmailMessage object at 0x7f87d7ed2a70>]\n",
      "[<email.message.EmailMessage object at 0x7f87d7ed3100>]\n",
      "[<email.message.EmailMessage object at 0x7f87d7ed3b20>, <email.message.EmailMessage object at 0x7f87d7ed23b0>]\n",
      "[<email.message.EmailMessage object at 0x7f87d7ed39a0>]\n",
      "[<email.message.EmailMessage object at 0x7f87d7ed39d0>]\n",
      "[<email.message.EmailMessage object at 0x7f87d7ed1ba0>, <email.message.EmailMessage object at 0x7f87d7ed24d0>]\n",
      "[<email.message.EmailMessage object at 0x7f87d7ed14b0>]\n",
      "[<email.message.EmailMessage object at 0x7f87d7ed0fd0>, <email.message.EmailMessage object at 0x7f87d7ed0400>]\n",
      "[<email.message.EmailMessage object at 0x7f87d7ed15d0>]\n"
     ]
    }
   ],
   "source": [
    "cnt = 0\n",
    "for e in spam:\n",
    "    if isinstance(e, str):\n",
    "        pass\n",
    "    p = e.get_payload()\n",
    "    if isinstance(p, list):\n",
    "        cnt +=1 \n",
    "        print(p)\n",
    "    else:\n",
    "        # print(e.get_content_type())?\n",
    "        pass"
   ]
  },
  {
   "cell_type": "code",
   "execution_count": 73,
   "metadata": {},
   "outputs": [
    {
     "data": {
      "text/plain": [
       "98"
      ]
     },
     "execution_count": 73,
     "metadata": {},
     "output_type": "execute_result"
    }
   ],
   "source": [
    "cnt"
   ]
  },
  {
   "cell_type": "code",
   "execution_count": null,
   "metadata": {},
   "outputs": [],
   "source": [
    "def structure(email):\n",
    "    if isinstance(email, str):\n",
    "        pass\n",
    "    p = email.get_payload()\n",
    "    if isinstance(p, list):\n",
    "        print()"
   ]
  }
 ],
 "metadata": {
  "kernelspec": {
   "display_name": "Python 3 (ipykernel)",
   "language": "python",
   "name": "python3"
  },
  "language_info": {
   "codemirror_mode": {
    "name": "ipython",
    "version": 3
   },
   "file_extension": ".py",
   "mimetype": "text/x-python",
   "name": "python",
   "nbconvert_exporter": "python",
   "pygments_lexer": "ipython3",
   "version": "3.10.10"
  }
 },
 "nbformat": 4,
 "nbformat_minor": 2
}
